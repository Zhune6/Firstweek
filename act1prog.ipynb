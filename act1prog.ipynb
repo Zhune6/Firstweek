{
  "nbformat": 4,
  "nbformat_minor": 0,
  "metadata": {
    "colab": {
      "provenance": [],
      "include_colab_link": true
    },
    "kernelspec": {
      "name": "python3",
      "display_name": "Python 3"
    },
    "language_info": {
      "name": "python"
    }
  },
  "cells": [
    {
      "cell_type": "markdown",
      "metadata": {
        "id": "view-in-github",
        "colab_type": "text"
      },
      "source": [
        "<a href=\"https://colab.research.google.com/github/Zhune6/Firstweek/blob/main/act1prog.ipynb\" target=\"_parent\"><img src=\"https://colab.research.google.com/assets/colab-badge.svg\" alt=\"Open In Colab\"/></a>"
      ]
    },
    {
      "cell_type": "code",
      "execution_count": null,
      "metadata": {
        "id": "t_LnAFLanr_q"
      },
      "outputs": [],
      "source": [
        "#dar a conocer al usiario como es una equacion de segundo grado, y como nos gustaria\n",
        "eq=\"a**2+b+c=0\"\n",
        "print(f\"esta es la estructura de una ecuacion de segundo grado{eq}\")\n",
        "\n",
        "#tomar los valores del usuario\n",
        "a=input(\"cual es el valor del primer termino?\")\n",
        "b=input(\"cual es el valor del segundo termino?\")\n",
        "c=input(\"cual es el valor del tercer termino?\")"
      ]
    },
    {
      "cell_type": "code",
      "source": [
        "eq=\"a**2+b+c=0\"\n",
        "print(f\"esta es la estructura de una ecuacion de segundo grado{eq}\")\n",
        "\n",
        "a=float(input(\"cual es el valor del primer termino?\"))\n",
        "b=float(input(\"cual es el valor del segundo termino?\"))\n",
        "c=float(input(\"cual es el valor del tercer termino?\"))\n",
        "\n",
        "#declaramos delta porque es lo que vamos a usar para saber si la equacion tiene raiz imaginaria o no\n",
        "delta=b**2-4*a*c\n",
        "\n",
        "print(delta>0)"
      ],
      "metadata": {
        "colab": {
          "base_uri": "https://localhost:8080/"
        },
        "id": "LYMtWXCeoben",
        "outputId": "f432217b-eda6-43ad-a197-5dc0b486cd55"
      },
      "execution_count": null,
      "outputs": [
        {
          "output_type": "stream",
          "name": "stdout",
          "text": [
            "esta es la estructura de una ecuacion de segundo gradoa**2+b+c=0\n",
            "cual es el valor del primer termino?4\n",
            "cual es el valor del segundo termino?5\n",
            "cual es el valor del tercer termino?2\n",
            "False\n"
          ]
        }
      ]
    },
    {
      "cell_type": "markdown",
      "source": [
        "si delta es menor a cero, entonces el resultado de la raiz es un numero imaginario"
      ],
      "metadata": {
        "id": "eHYbOu1BpVUu"
      }
    },
    {
      "cell_type": "markdown",
      "source": [
        "para poder determinar si una ecuacion es o no de segundo grado puedes verificar que primero tenga los 3 valores"
      ],
      "metadata": {
        "id": "WbgtOah7piu9"
      }
    },
    {
      "cell_type": "code",
      "source": [
        "if a and b and c:\n",
        "  print(\"la ecuacion es de segundo grado\")\n",
        "else:\n",
        "  print(\"la ecuacion no es de primer grado\")"
      ],
      "metadata": {
        "colab": {
          "base_uri": "https://localhost:8080/"
        },
        "id": "OvlNlbqnpMjk",
        "outputId": "13b412c5-1366-431e-a1dd-1b04eae790f1"
      },
      "execution_count": null,
      "outputs": [
        {
          "output_type": "stream",
          "name": "stdout",
          "text": [
            "la ecuacion es de segundo grado\n"
          ]
        }
      ]
    },
    {
      "cell_type": "markdown",
      "source": [
        "refactorizando el codigo para evitar errores al introducir toda la logica terminamos con algo como esto\n"
      ],
      "metadata": {
        "id": "KKJ-YfT2rXXv"
      }
    },
    {
      "cell_type": "code",
      "source": [
        "eq=\"a**2+b+c=0\"\n",
        "print(f\"esta es la estructura de una ecuacion de segundo grado{eq}\")\n",
        "\n",
        "a=input(\"cual es el valor del primer termino?\")\n",
        "b=input(\"cual es el valor del segundo termino?\")\n",
        "c=input(\"cual es el valor del tercer termino?\")\n",
        "\n",
        "if a == \"\":\n",
        "  a=0\n",
        "if b == \"\":\n",
        "  b=0\n",
        "if c == \"\":\n",
        "  c=0\n",
        "\n",
        "if a !=0 and b !=0 and c !=0:\n",
        "  print(\"la ecuacion es de segundo grado\")\n",
        "else:\n",
        "  print(\"la ecuacion no es de segundo grado\")\n",
        "delta=float(b)**2-4*float(a)*float(c)\n",
        "\n",
        "print(delta>0)\n",
        "if delta>0:\n",
        "  print(\"la raiz no es imaginaria\")\n",
        "else:\n",
        "  print(\"la raiz es imaginaria\")"
      ],
      "metadata": {
        "colab": {
          "base_uri": "https://localhost:8080/"
        },
        "id": "JwHxVlOSrcEx",
        "outputId": "e13e64dc-8663-44b9-ff1a-251e9e027d38"
      },
      "execution_count": null,
      "outputs": [
        {
          "output_type": "stream",
          "name": "stdout",
          "text": [
            "esta es la estructura de una ecuacion de segundo gradoa**2+b+c=0\n",
            "cual es el valor del primer termino?\n",
            "cual es el valor del segundo termino?5\n",
            "cual es el valor del tercer termino?6\n",
            "la ecuacion no es de segundo grado\n",
            "True\n",
            "la raiz no es imaginaria\n"
          ]
        }
      ]
    },
    {
      "cell_type": "markdown",
      "source": [
        "para evitar ahora errores de logica y que no calcule delta si la ecuacion no es de segundo grado:"
      ],
      "metadata": {
        "id": "T6-QguHFs3Go"
      }
    },
    {
      "cell_type": "code",
      "source": [
        "eq=\"a**2+b+c=0\"\n",
        "print(f\"esta es la estructura de una ecuacion de segundo grado{eq}\")\n",
        "\n",
        "a=input(\"cual es el valor del primer termino?\")\n",
        "b=input(\"cual es el valor del segundo termino?\")\n",
        "c=input(\"cual es el valor del tercer termino?\")\n",
        "\n",
        "if a == \"\":\n",
        "  a=0\n",
        "if b == \"\":\n",
        "  b=0\n",
        "if c == \"\":\n",
        "  c=0\n",
        "\n",
        "if a !=0 and b !=0 and c !=0:\n",
        "  print(\"la ecuacion es de segundo grado\")\n",
        "  delta=float(b)**2-4*float(a)*float(c)\n",
        "\n",
        "  print(delta>0)\n",
        "  if delta>0:\n",
        "    print(\"la raiz no es imaginaria\")\n",
        "  else:\n",
        "    print(\"la raiz es imaginaria\")\n",
        "\n",
        "  print(f\"la ecuacion introducida fue: {a}x**2+-{b}x+-{c}=0\")\n",
        "else:\n",
        "  print(\"la ecuacion no es de segundo grado\")"
      ],
      "metadata": {
        "colab": {
          "base_uri": "https://localhost:8080/"
        },
        "id": "aeGsSDPWsGM7",
        "outputId": "63c69cd6-7695-4872-d5f4-6d4fcfe3724c"
      },
      "execution_count": null,
      "outputs": [
        {
          "output_type": "stream",
          "name": "stdout",
          "text": [
            "esta es la estructura de una ecuacion de segundo gradoa**2+b+c=0\n",
            "cual es el valor del primer termino?2\n",
            "cual es el valor del segundo termino?20\n",
            "cual es el valor del tercer termino?5\n",
            "la ecuacion es de segundo grado\n",
            "True\n",
            "la raiz no es imaginaria\n",
            "la ecuacion introducida fue2x**2+-20x+-5=0\n"
          ]
        }
      ]
    },
    {
      "cell_type": "markdown",
      "source": [
        "la version de chat gpt de mi codigo:"
      ],
      "metadata": {
        "id": "LrphBC98ueWE"
      }
    },
    {
      "cell_type": "code",
      "source": [
        "import math\n",
        "\n",
        "eq = \"a*x^2 + b*x + c = 0\"\n",
        "print(f\"Esta es la estructura de una ecuación de segundo grado: {eq}\\n\")\n",
        "\n",
        "a = input(\"¿Cuál es el valor del primer término? \")\n",
        "b = input(\"¿Cuál es el valor del segundo término? \")\n",
        "c = input(\"¿Cuál es el valor del tercer término? \")\n",
        "\n",
        "# Convert inputs to float, defaulting to 0 if empty\n",
        "a = float(a) if a else 0\n",
        "b = float(b) if b else 0\n",
        "c = float(c) if c else 0\n",
        "\n",
        "if a != 0:\n",
        "    print(\"La ecuación es de segundo grado.\")\n",
        "\n",
        "    delta = b**2 - 4*a*c\n",
        "\n",
        "    if delta > 0:\n",
        "        print(\"La raíz no es imaginaria.\")\n",
        "        x1 = (-b + math.sqrt(delta)) / (2*a)\n",
        "        x2 = (-b - math.sqrt(delta)) / (2*a)\n",
        "        print(f\"Las soluciones son: x1 = {x1} y x2 = {x2}\")\n",
        "    elif delta == 0:\n",
        "        print(\"Hay una única solución real.\")\n",
        "        x = -b / (2*a)\n",
        "        print(f\"La solución es: x = {x}\")\n",
        "    else:\n",
        "        print(\"La raíz es imaginaria.\")\n",
        "\n",
        "    # Display the equation\n",
        "    a_term = f\"{a}x^2\" if a != 1 else \"x^2\"\n",
        "    b_term = f\"+ {b}x\" if b > 0 else f\"- {-b}x\" if b < 0 else \"\"\n",
        "    c_term = f\"+ {c}\" if c > 0 else f\"- {-c}\" if c < 0 else \"\"\n",
        "    print(f\"La ecuación introducida fue: {a_term} {b_term} {c_term} = 0\")\n",
        "else:\n",
        "    print(\"La ecuación no es de segundo grado.\")"
      ],
      "metadata": {
        "colab": {
          "base_uri": "https://localhost:8080/"
        },
        "id": "c0dv6FB1uZjN",
        "outputId": "526a05ac-c64b-4a0c-b313-98288b6fe5c0"
      },
      "execution_count": null,
      "outputs": [
        {
          "output_type": "stream",
          "name": "stdout",
          "text": [
            "Esta es la estructura de una ecuación de segundo grado: a*x^2 + b*x + c = 0\n",
            "\n",
            "¿Cuál es el valor del primer término? 4\n",
            "¿Cuál es el valor del segundo término? 2\n",
            "¿Cuál es el valor del tercer término? 8\n",
            "La ecuación es de segundo grado.\n",
            "La raíz es imaginaria.\n",
            "La ecuación introducida fue: 4.0x^2 + 2.0x + 8.0 = 0\n"
          ]
        }
      ]
    },
    {
      "cell_type": "code",
      "source": [
        "import sympy as sp\n",
        "\n",
        "eq = \"a*x^2 + b*x + c = 0\"\n",
        "print(f\"Esta es la estructura de una ecuación de segundo grado: {eq}\\n\")\n",
        "\n",
        "a_val = input(\"¿Cuál es el valor del primer término? \")\n",
        "b_val = input(\"¿Cuál es el valor del segundo término? \")\n",
        "c_val = input(\"¿Cuál es el valor del tercer término? \")\n",
        "\n",
        "# Convert inputs to float, defaulting to 0 if empty\n",
        "a_val = float(a_val) if a_val else 0\n",
        "b_val = float(b_val) if b_val else 0\n",
        "c_val = float(c_val) if c_val else 0\n",
        "\n",
        "# Define the symbols\n",
        "a, b, c, x = sp.symbols('a b c x')\n",
        "\n",
        "# Define the quadratic equation\n",
        "equation = a*x**2 + b*x + c\n",
        "\n",
        "# Substitute the values into the equation\n",
        "equation_with_values = equation.subs({a: a_val, b: b_val, c: c_val})\n",
        "\n",
        "# Solve the equation\n",
        "solutions = sp.solve(equation_with_values, x)\n",
        "\n",
        "# Display the equation and its solutions\n",
        "print(f\"La ecuación introducida fue: {equation_with_values} = 0\")\n",
        "print(f\"Las soluciones son: x = {solutions[0]} y x = {solutions[1]}\")\n"
      ],
      "metadata": {
        "colab": {
          "base_uri": "https://localhost:8080/"
        },
        "id": "u3jiiGpVvGNj",
        "outputId": "3f1ceb3b-7f88-4d74-bfc0-b54addbee46a"
      },
      "execution_count": null,
      "outputs": [
        {
          "output_type": "stream",
          "name": "stdout",
          "text": [
            "Esta es la estructura de una ecuación de segundo grado: a*x^2 + b*x + c = 0\n",
            "\n",
            "¿Cuál es el valor del primer término? 3\n",
            "¿Cuál es el valor del segundo término? 6\n",
            "¿Cuál es el valor del tercer término? 7\n",
            "La ecuación introducida fue: 3.0*x**2 + 6.0*x + 7.0 = 0\n",
            "Las soluciones son: x = -1.0 - 1.15470053837925*I y x = -1.0 + 1.15470053837925*I\n"
          ]
        }
      ]
    }
  ]
}